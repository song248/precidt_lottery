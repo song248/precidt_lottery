{
 "cells": [
  {
   "cell_type": "code",
   "execution_count": 1,
   "metadata": {},
   "outputs": [],
   "source": [
    "import pandas as pd"
   ]
  },
  {
   "cell_type": "code",
   "execution_count": 103,
   "metadata": {},
   "outputs": [
    {
     "data": {
      "text/html": [
       "<div>\n",
       "<style scoped>\n",
       "    .dataframe tbody tr th:only-of-type {\n",
       "        vertical-align: middle;\n",
       "    }\n",
       "\n",
       "    .dataframe tbody tr th {\n",
       "        vertical-align: top;\n",
       "    }\n",
       "\n",
       "    .dataframe thead th {\n",
       "        text-align: right;\n",
       "    }\n",
       "</style>\n",
       "<table border=\"1\" class=\"dataframe\">\n",
       "  <thead>\n",
       "    <tr style=\"text-align: right;\">\n",
       "      <th></th>\n",
       "      <th>num</th>\n",
       "      <th>1</th>\n",
       "      <th>2</th>\n",
       "      <th>3</th>\n",
       "      <th>4</th>\n",
       "      <th>5</th>\n",
       "      <th>6</th>\n",
       "      <th>bonus</th>\n",
       "    </tr>\n",
       "  </thead>\n",
       "  <tbody>\n",
       "    <tr>\n",
       "      <th>963</th>\n",
       "      <td>1</td>\n",
       "      <td>10</td>\n",
       "      <td>23.0</td>\n",
       "      <td>29.0</td>\n",
       "      <td>33.0</td>\n",
       "      <td>37.0</td>\n",
       "      <td>40.0</td>\n",
       "      <td>16</td>\n",
       "    </tr>\n",
       "    <tr>\n",
       "      <th>962</th>\n",
       "      <td>2</td>\n",
       "      <td>9</td>\n",
       "      <td>13.0</td>\n",
       "      <td>21.0</td>\n",
       "      <td>25.0</td>\n",
       "      <td>32.0</td>\n",
       "      <td>42.0</td>\n",
       "      <td>2</td>\n",
       "    </tr>\n",
       "    <tr>\n",
       "      <th>961</th>\n",
       "      <td>3</td>\n",
       "      <td>11</td>\n",
       "      <td>16.0</td>\n",
       "      <td>19.0</td>\n",
       "      <td>21.0</td>\n",
       "      <td>27.0</td>\n",
       "      <td>31.0</td>\n",
       "      <td>30</td>\n",
       "    </tr>\n",
       "    <tr>\n",
       "      <th>960</th>\n",
       "      <td>4</td>\n",
       "      <td>14</td>\n",
       "      <td>27.0</td>\n",
       "      <td>30.0</td>\n",
       "      <td>31.0</td>\n",
       "      <td>40.0</td>\n",
       "      <td>42.0</td>\n",
       "      <td>2</td>\n",
       "    </tr>\n",
       "    <tr>\n",
       "      <th>959</th>\n",
       "      <td>5</td>\n",
       "      <td>16</td>\n",
       "      <td>24.0</td>\n",
       "      <td>29.0</td>\n",
       "      <td>40.0</td>\n",
       "      <td>41.0</td>\n",
       "      <td>42.0</td>\n",
       "      <td>3</td>\n",
       "    </tr>\n",
       "  </tbody>\n",
       "</table>\n",
       "</div>"
      ],
      "text/plain": [
       "    num   1     2     3     4     5     6 bonus\n",
       "963   1  10  23.0  29.0  33.0  37.0  40.0    16\n",
       "962   2   9  13.0  21.0  25.0  32.0  42.0     2\n",
       "961   3  11  16.0  19.0  21.0  27.0  31.0    30\n",
       "960   4  14  27.0  30.0  31.0  40.0  42.0     2\n",
       "959   5  16  24.0  29.0  40.0  41.0  42.0     3"
      ]
     },
     "execution_count": 103,
     "metadata": {},
     "output_type": "execute_result"
    }
   ],
   "source": [
    "excel = pd.read_excel('C:\\\\Users\\\\songtg\\\\Desktop\\\\lotto\\\\excel_1.xlsx', header=None)\n",
    "excel = excel.drop(index=0)\n",
    "excel = excel.drop(index=1)\n",
    "excel = excel.drop(index=2)\n",
    "excel = excel.drop(columns=[0,2,3,4,5,6,7,8,9,10,11,12])\n",
    "excel = excel[::-1]\n",
    "excel = excel.rename(columns={1: 'num'})\n",
    "for i in range(0, 6):\n",
    "    excel = excel.rename(columns={i+13: i+1})\n",
    "excel = excel.rename(columns={19: 'bonus'})\n",
    "excel.head()"
   ]
  },
  {
   "cell_type": "code",
   "execution_count": 104,
   "metadata": {},
   "outputs": [],
   "source": [
    "excel.to_csv('C:\\\\Users\\\\songtg\\\\Desktop\\\\lotto\\\\sorted_lotto.csv')"
   ]
  },
  {
   "cell_type": "code",
   "execution_count": 105,
   "metadata": {},
   "outputs": [],
   "source": [
    "from sklearn.linear_model import LinearRegression"
   ]
  },
  {
   "cell_type": "code",
   "execution_count": 106,
   "metadata": {},
   "outputs": [],
   "source": [
    "x = excel['num']\n",
    "y_1 = excel[1]\n",
    "y_2 = excel[2]\n",
    "y_3 = excel[3]\n",
    "y_4 = excel[4]\n",
    "y_5 = excel[5]\n",
    "y_6 = excel[6]\n",
    "y_bo = excel['bonus']"
   ]
  },
  {
   "cell_type": "code",
   "execution_count": 107,
   "metadata": {},
   "outputs": [],
   "source": [
    "pre_num_1 = LinearRegression()\n",
    "pre_num_1.fit(x.values.reshape(-1,1),y_1)\n",
    "ans_1 = pre_num_1.predict([[len(excel)+1]])[0]\n",
    "\n",
    "pre_num_2 = LinearRegression()\n",
    "pre_num_2.fit(x.values.reshape(-1,1),y_2)\n",
    "ans_2 = pre_num_2.predict([[len(excel)+1]])[0]\n",
    "\n",
    "pre_num_3 = LinearRegression()\n",
    "pre_num_3.fit(x.values.reshape(-1,1),y_3)\n",
    "ans_3 = pre_num_3.predict([[len(excel)+1]])[0]\n",
    "\n",
    "pre_num_4 = LinearRegression()\n",
    "pre_num_4.fit(x.values.reshape(-1,1),y_4)\n",
    "ans_4 = pre_num_4.predict([[len(excel)+1]])[0]\n",
    "\n",
    "pre_num_5 = LinearRegression()\n",
    "pre_num_5.fit(x.values.reshape(-1,1),y_5)\n",
    "ans_5 = pre_num_5.predict([[len(excel)+1]])[0]\n",
    "\n",
    "pre_num_6 = LinearRegression()\n",
    "pre_num_6.fit(x.values.reshape(-1,1),y_6)\n",
    "ans_6 = pre_num_6.predict([[len(excel)+1]])[0]\n",
    "\n",
    "pre_num_bo = LinearRegression()\n",
    "pre_num_bo.fit(x.values.reshape(-1,1),y_bo)\n",
    "ans_bo = pre_num_bo.predict([[len(excel)+1]])[0]"
   ]
  },
  {
   "cell_type": "code",
   "execution_count": 110,
   "metadata": {},
   "outputs": [
    {
     "data": {
      "text/plain": [
       "6.7490244536940684"
      ]
     },
     "execution_count": 110,
     "metadata": {},
     "output_type": "execute_result"
    }
   ],
   "source": [
    "ans_1"
   ]
  },
  {
   "cell_type": "code",
   "execution_count": 109,
   "metadata": {},
   "outputs": [
    {
     "data": {
      "text/plain": [
       "[7, 13, 20, 26, 33, 40, 23]"
      ]
     },
     "execution_count": 109,
     "metadata": {},
     "output_type": "execute_result"
    }
   ],
   "source": [
    "this_week = []\n",
    "this_week.append(int(round(ans_1,0)))\n",
    "this_week.append(int(round(ans_2,0)))\n",
    "this_week.append(int(round(ans_3,0)))\n",
    "this_week.append(int(round(ans_4,0)))\n",
    "this_week.append(int(round(ans_5,0)))\n",
    "this_week.append(int(round(ans_6,0)))\n",
    "this_week.append(int(round(ans_bo,0)))\n",
    "this_week"
   ]
  },
  {
   "cell_type": "code",
   "execution_count": 84,
   "metadata": {},
   "outputs": [
    {
     "data": {
      "image/png": "[encoded data removed]",
      "text/plain": [
       "<Figure size 432x288 with 1 Axes>"
      ]
     },
     "metadata": {
      "needs_background": "light"
     },
     "output_type": "display_data"
    }
   ],
   "source": [
    "import matplotlib.pyplot as plt\n",
    "\n",
    "plt.plot(x, y_1, 'o')\n",
    "plt.plot(x,line_1.predict(x.values.reshape(-1,1)))\n",
    "plt.show()"
   ]
  },
  {
   "cell_type": "code",
   "execution_count": 89,
   "metadata": {},
   "outputs": [
    {
     "data": {
      "text/plain": [
       "6.731045794230101"
      ]
     },
     "execution_count": 89,
     "metadata": {},
     "output_type": "execute_result"
    }
   ],
   "source": [
    "ans_1[0]"
   ]
  }
 ],
 "metadata": {
  "kernelspec": {
   "display_name": "Python 3",
   "language": "python",
   "name": "python3"
  },
  "language_info": {
   "codemirror_mode": {
    "name": "ipython",
    "version": 3
   },
   "file_extension": ".py",
   "mimetype": "text/x-python",
   "name": "python",
   "nbconvert_exporter": "python",
   "pygments_lexer": "ipython3",
   "version": "3.8.3"
  }
 },
 "nbformat": 4,
 "nbformat_minor": 4
}
